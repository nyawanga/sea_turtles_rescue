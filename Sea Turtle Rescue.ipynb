{
 "cells": [
  {
   "cell_type": "code",
   "execution_count": 135,
   "metadata": {},
   "outputs": [],
   "source": [
    "import pandas as pd\n",
    "import csv\n",
    "import numpy as np\n",
    "import matplotlib.pyplot as plt\n",
    "import re\n",
    "import seaborn as sns\n",
    "import squarify\n",
    "\n",
    "sns.set_style(\"whitegrid\")\n",
    "%matplotlib inline"
   ]
  },
  {
   "cell_type": "code",
   "execution_count": 48,
   "metadata": {},
   "outputs": [
    {
     "data": {
      "text/html": [
       "<div>\n",
       "<style scoped>\n",
       "    .dataframe tbody tr th:only-of-type {\n",
       "        vertical-align: middle;\n",
       "    }\n",
       "\n",
       "    .dataframe tbody tr th {\n",
       "        vertical-align: top;\n",
       "    }\n",
       "\n",
       "    .dataframe thead th {\n",
       "        text-align: right;\n",
       "    }\n",
       "</style>\n",
       "<table border=\"1\" class=\"dataframe\">\n",
       "  <thead>\n",
       "    <tr style=\"text-align: right;\">\n",
       "      <th></th>\n",
       "      <th>Rescue_ID</th>\n",
       "      <th>Date_Caught</th>\n",
       "      <th>Researcher</th>\n",
       "      <th>CaptureSite</th>\n",
       "      <th>ForagingGround</th>\n",
       "      <th>CaptureMethod</th>\n",
       "      <th>Fisher</th>\n",
       "      <th>LandingSite</th>\n",
       "      <th>Species</th>\n",
       "      <th>ReleaseSite</th>\n",
       "      <th>...</th>\n",
       "      <th>CCW_cm</th>\n",
       "      <th>Weight_Kg</th>\n",
       "      <th>Sex</th>\n",
       "      <th>TurtleCharacteristics</th>\n",
       "      <th>Status</th>\n",
       "      <th>Date_Release</th>\n",
       "      <th>Release_Admiss_Notes</th>\n",
       "      <th>SpecialRemarks</th>\n",
       "      <th>PCVNumber</th>\n",
       "      <th>Expenditure</th>\n",
       "    </tr>\n",
       "  </thead>\n",
       "  <tbody>\n",
       "    <tr>\n",
       "      <th>0</th>\n",
       "      <td>1998_RE_0001</td>\n",
       "      <td>4/17/1998</td>\n",
       "      <td>researcher_19</td>\n",
       "      <td>site_110</td>\n",
       "      <td>creek</td>\n",
       "      <td>net</td>\n",
       "      <td>fisher_619</td>\n",
       "      <td>site_58</td>\n",
       "      <td>species_1</td>\n",
       "      <td>site_80</td>\n",
       "      <td>...</td>\n",
       "      <td>58.42</td>\n",
       "      <td>NaN</td>\n",
       "      <td>Unknown</td>\n",
       "      <td>NaN</td>\n",
       "      <td>Released</td>\n",
       "      <td>4/17/1998</td>\n",
       "      <td>NaN</td>\n",
       "      <td>NaN</td>\n",
       "      <td>NaN</td>\n",
       "      <td>NaN</td>\n",
       "    </tr>\n",
       "    <tr>\n",
       "      <th>1</th>\n",
       "      <td>1998_RE_0002</td>\n",
       "      <td>7/7/1998</td>\n",
       "      <td>researcher_15</td>\n",
       "      <td>site_15</td>\n",
       "      <td>creek</td>\n",
       "      <td>longline</td>\n",
       "      <td>fisher_522</td>\n",
       "      <td>site_22</td>\n",
       "      <td>species_1</td>\n",
       "      <td>not_recorded</td>\n",
       "      <td>...</td>\n",
       "      <td>36.83</td>\n",
       "      <td>NaN</td>\n",
       "      <td>Unknown</td>\n",
       "      <td>1B-1LLS</td>\n",
       "      <td>NaN</td>\n",
       "      <td>NaN</td>\n",
       "      <td>NaN</td>\n",
       "      <td>NaN</td>\n",
       "      <td>NaN</td>\n",
       "      <td>NaN</td>\n",
       "    </tr>\n",
       "    <tr>\n",
       "      <th>2</th>\n",
       "      <td>1998_RE_0003</td>\n",
       "      <td>8/3/1998</td>\n",
       "      <td>not_recorded</td>\n",
       "      <td>site_12</td>\n",
       "      <td>creek</td>\n",
       "      <td>not_recorded</td>\n",
       "      <td>fisher_1254</td>\n",
       "      <td>not_recorded</td>\n",
       "      <td>species_1</td>\n",
       "      <td>site_109</td>\n",
       "      <td>...</td>\n",
       "      <td>33.00</td>\n",
       "      <td>NaN</td>\n",
       "      <td>Unknown</td>\n",
       "      <td>NaN</td>\n",
       "      <td>Released</td>\n",
       "      <td>8/3/1998</td>\n",
       "      <td>NaN</td>\n",
       "      <td>NaN</td>\n",
       "      <td>NaN</td>\n",
       "      <td>NaN</td>\n",
       "    </tr>\n",
       "    <tr>\n",
       "      <th>3</th>\n",
       "      <td>1998_RE_0004</td>\n",
       "      <td>8/7/1998</td>\n",
       "      <td>researcher_19</td>\n",
       "      <td>site_110</td>\n",
       "      <td>creek</td>\n",
       "      <td>not_recorded</td>\n",
       "      <td>fisher_360</td>\n",
       "      <td>not_recorded</td>\n",
       "      <td>species_2</td>\n",
       "      <td>site_108</td>\n",
       "      <td>...</td>\n",
       "      <td>31.75</td>\n",
       "      <td>NaN</td>\n",
       "      <td>Unknown</td>\n",
       "      <td>There was pillings on carapace.</td>\n",
       "      <td>Released</td>\n",
       "      <td>8/7/1998</td>\n",
       "      <td>NaN</td>\n",
       "      <td>NaN</td>\n",
       "      <td>NaN</td>\n",
       "      <td>NaN</td>\n",
       "    </tr>\n",
       "    <tr>\n",
       "      <th>4</th>\n",
       "      <td>1998_RE_0005</td>\n",
       "      <td>9/25/1998</td>\n",
       "      <td>researcher_17</td>\n",
       "      <td>site_8</td>\n",
       "      <td>creek</td>\n",
       "      <td>collected floater</td>\n",
       "      <td>fisher_865</td>\n",
       "      <td>site_8</td>\n",
       "      <td>species_3</td>\n",
       "      <td>site_121</td>\n",
       "      <td>...</td>\n",
       "      <td>63.50</td>\n",
       "      <td>NaN</td>\n",
       "      <td>Unknown</td>\n",
       "      <td>Bs on C+ old panga wounds</td>\n",
       "      <td>Released</td>\n",
       "      <td>9/25/1998</td>\n",
       "      <td>Found trapped in mangroves</td>\n",
       "      <td>NaN</td>\n",
       "      <td>NaN</td>\n",
       "      <td>NaN</td>\n",
       "    </tr>\n",
       "  </tbody>\n",
       "</table>\n",
       "<p>5 rows × 26 columns</p>\n",
       "</div>"
      ],
      "text/plain": [
       "      Rescue_ID Date_Caught     Researcher CaptureSite ForagingGround  \\\n",
       "0  1998_RE_0001   4/17/1998  researcher_19    site_110          creek   \n",
       "1  1998_RE_0002    7/7/1998  researcher_15     site_15          creek   \n",
       "2  1998_RE_0003    8/3/1998   not_recorded     site_12          creek   \n",
       "3  1998_RE_0004    8/7/1998  researcher_19    site_110          creek   \n",
       "4  1998_RE_0005   9/25/1998  researcher_17      site_8          creek   \n",
       "\n",
       "       CaptureMethod       Fisher   LandingSite    Species   ReleaseSite  \\\n",
       "0                net   fisher_619       site_58  species_1       site_80   \n",
       "1           longline   fisher_522       site_22  species_1  not_recorded   \n",
       "2       not_recorded  fisher_1254  not_recorded  species_1      site_109   \n",
       "3       not_recorded   fisher_360  not_recorded  species_2      site_108   \n",
       "4  collected floater   fisher_865        site_8  species_3      site_121   \n",
       "\n",
       "      ...     CCW_cm Weight_Kg      Sex            TurtleCharacteristics  \\\n",
       "0     ...      58.42       NaN  Unknown                              NaN   \n",
       "1     ...      36.83       NaN  Unknown                          1B-1LLS   \n",
       "2     ...      33.00       NaN  Unknown                              NaN   \n",
       "3     ...      31.75       NaN  Unknown  There was pillings on carapace.   \n",
       "4     ...      63.50       NaN  Unknown        Bs on C+ old panga wounds   \n",
       "\n",
       "     Status  Date_Release        Release_Admiss_Notes  SpecialRemarks  \\\n",
       "0  Released     4/17/1998                         NaN             NaN   \n",
       "1       NaN           NaN                         NaN             NaN   \n",
       "2  Released      8/3/1998                         NaN             NaN   \n",
       "3  Released      8/7/1998                         NaN             NaN   \n",
       "4  Released     9/25/1998  Found trapped in mangroves             NaN   \n",
       "\n",
       "  PCVNumber Expenditure  \n",
       "0       NaN         NaN  \n",
       "1       NaN         NaN  \n",
       "2       NaN         NaN  \n",
       "3       NaN         NaN  \n",
       "4       NaN         NaN  \n",
       "\n",
       "[5 rows x 26 columns]"
      ]
     },
     "execution_count": 48,
     "metadata": {},
     "output_type": "execute_result"
    }
   ],
   "source": [
    "clean = pd.read_csv(\"cleaned_data.csv\", encoding = 'latin-1')\n",
    "dirty = pd.read_csv(\"dirty_data.csv\", encoding = 'latin-1')\n",
    "\n",
    "clean.head()"
   ]
  },
  {
   "cell_type": "code",
   "execution_count": 49,
   "metadata": {},
   "outputs": [],
   "source": [
    "with open(\"cleaned_data.csv\", \"r\", encoding='latin-1') as csvfile1:\n",
    "    with open (\"dirty_data.csv\", \"r\", encoding='latin-1') as csvfile2:\n",
    "        reader1 = [row for row in csv.reader(csvfile1)]\n",
    "        reader2 = [row for row in csv.reader(csvfile2)]\n",
    "        labels = []\n",
    "        count = 0\n",
    "        for row1, row2 in zip(reader1, reader2):\n",
    "            diff = []                        #counter for difference\n",
    "            for i, x in enumerate(row1):\n",
    "                if str(row1[i]).lower().strip() != str(row2[i]).lower().strip():      #check string similarity\n",
    "                    diff.append(1)                                        \n",
    "                else:\n",
    "                    diff.append(0)\n",
    "            labels.append(diff)\n",
    "#             if diff > 0:\n",
    "#                 labels[count] = 1\n",
    "#             else:\n",
    "#                 labels[count] = 0                 \n",
    "                #print(str(row1[i]).strip(), str(row2[i]).strip())\n",
    "                #print(count)\n",
    "            count +=1\n",
    "            \n",
    "#DELETE THE FIRST ITEM COLUMN HEADERS\n",
    "#del labels[0]\n",
    "new_labels = labels[1:].copy()\n",
    "\n",
    "#CREATE A DATAFRAME WITH THE LABELS \n",
    "labels_df = pd.DataFrame(new_labels)\n",
    "#label_df = pd.DataFrame(list(zip(labels.keys(), labels.values())), columns = ['row', 'label'] )\n",
    "#label_df.label.value_counts()"
   ]
  },
  {
   "cell_type": "code",
   "execution_count": 50,
   "metadata": {},
   "outputs": [
    {
     "data": {
      "text/plain": [
       "RangeIndex(start=0, stop=26, step=1)"
      ]
     },
     "execution_count": 50,
     "metadata": {},
     "output_type": "execute_result"
    }
   ],
   "source": [
    "labels_df.columns"
   ]
  },
  {
   "cell_type": "markdown",
   "metadata": {},
   "source": [
    "### Confirm the shape matches that of the dataframe"
   ]
  },
  {
   "cell_type": "code",
   "execution_count": 51,
   "metadata": {},
   "outputs": [
    {
     "data": {
      "text/plain": [
       "((4292, 26), (4292, 2))"
      ]
     },
     "execution_count": 51,
     "metadata": {},
     "output_type": "execute_result"
    }
   ],
   "source": [
    "clean.shape, label_df.shape"
   ]
  },
  {
   "cell_type": "markdown",
   "metadata": {},
   "source": [
    "### APPEND THE NEW DATAFRAME LABEL COLUMN TO THE CLEANED DATA"
   ]
  },
  {
   "cell_type": "code",
   "execution_count": 52,
   "metadata": {},
   "outputs": [],
   "source": [
    "clean = clean.merge(label_df.drop('row', axis = 1), left_index= True, right_index = True, how = 'inner')"
   ]
  },
  {
   "cell_type": "code",
   "execution_count": 53,
   "metadata": {},
   "outputs": [
    {
     "data": {
      "text/plain": [
       "(4292, 27)"
      ]
     },
     "execution_count": 53,
     "metadata": {},
     "output_type": "execute_result"
    }
   ],
   "source": [
    "clean.shape"
   ]
  },
  {
   "cell_type": "code",
   "execution_count": 54,
   "metadata": {},
   "outputs": [
    {
     "name": "stdout",
     "output_type": "stream",
     "text": [
      "<class 'pandas.core.frame.DataFrame'>\n",
      "RangeIndex: 4292 entries, 0 to 4291\n",
      "Data columns (total 27 columns):\n",
      "Rescue_ID                4292 non-null object\n",
      "Date_Caught              4292 non-null object\n",
      "Researcher               4292 non-null object\n",
      "CaptureSite              4292 non-null object\n",
      "ForagingGround           4284 non-null object\n",
      "CaptureMethod            4292 non-null object\n",
      "Fisher                   4292 non-null object\n",
      "LandingSite              4292 non-null object\n",
      "Species                  4292 non-null object\n",
      "ReleaseSite              4288 non-null object\n",
      "Tag_1                    4292 non-null object\n",
      "Tag_2                    4292 non-null object\n",
      "Tag_3                    0 non-null float64\n",
      "Lost_Tags                213 non-null object\n",
      "T_Number                 2 non-null object\n",
      "CCL_cm                   4273 non-null float64\n",
      "CCW_cm                   4271 non-null float64\n",
      "Weight_Kg                690 non-null float64\n",
      "Sex                      3167 non-null object\n",
      "TurtleCharacteristics    4255 non-null object\n",
      "Status                   2991 non-null object\n",
      "Date_Release             681 non-null object\n",
      "Release_Admiss_Notes     276 non-null object\n",
      "SpecialRemarks           69 non-null object\n",
      "PCVNumber                0 non-null float64\n",
      "Expenditure              0 non-null float64\n",
      "label                    4292 non-null int64\n",
      "dtypes: float64(6), int64(1), object(20)\n",
      "memory usage: 905.4+ KB\n"
     ]
    }
   ],
   "source": [
    "clean.info()"
   ]
  },
  {
   "cell_type": "code",
   "execution_count": 55,
   "metadata": {},
   "outputs": [],
   "source": [
    "#Change Date_Caught column to datetime\n",
    "clean['Date_Caught'] = pd.to_datetime(clean['Date_Caught'])\n",
    "\n",
    "#clean[~(clean['Date_Caught'].dt.year.isin(['2008', '2009']))]['Date_Caught'].dt.year.value_counts().plot(kind = 'bar')"
   ]
  },
  {
   "cell_type": "markdown",
   "metadata": {},
   "source": [
    "### Exploratory Data Analysis"
   ]
  },
  {
   "cell_type": "code",
   "execution_count": 56,
   "metadata": {},
   "outputs": [
    {
     "data": {
      "text/html": [
       "<div>\n",
       "<style scoped>\n",
       "    .dataframe tbody tr th:only-of-type {\n",
       "        vertical-align: middle;\n",
       "    }\n",
       "\n",
       "    .dataframe tbody tr th {\n",
       "        vertical-align: top;\n",
       "    }\n",
       "\n",
       "    .dataframe thead th {\n",
       "        text-align: right;\n",
       "    }\n",
       "</style>\n",
       "<table border=\"1\" class=\"dataframe\">\n",
       "  <thead>\n",
       "    <tr style=\"text-align: right;\">\n",
       "      <th></th>\n",
       "      <th>Tag_3</th>\n",
       "      <th>CCL_cm</th>\n",
       "      <th>CCW_cm</th>\n",
       "      <th>Weight_Kg</th>\n",
       "      <th>PCVNumber</th>\n",
       "      <th>Expenditure</th>\n",
       "    </tr>\n",
       "  </thead>\n",
       "  <tbody>\n",
       "    <tr>\n",
       "      <th>count</th>\n",
       "      <td>0.0</td>\n",
       "      <td>4273.000000</td>\n",
       "      <td>4271.000000</td>\n",
       "      <td>690.000000</td>\n",
       "      <td>0.0</td>\n",
       "      <td>0.0</td>\n",
       "    </tr>\n",
       "    <tr>\n",
       "      <th>mean</th>\n",
       "      <td>NaN</td>\n",
       "      <td>46.101446</td>\n",
       "      <td>43.387801</td>\n",
       "      <td>11.260725</td>\n",
       "      <td>NaN</td>\n",
       "      <td>NaN</td>\n",
       "    </tr>\n",
       "    <tr>\n",
       "      <th>std</th>\n",
       "      <td>NaN</td>\n",
       "      <td>11.116282</td>\n",
       "      <td>9.869579</td>\n",
       "      <td>7.346254</td>\n",
       "      <td>NaN</td>\n",
       "      <td>NaN</td>\n",
       "    </tr>\n",
       "    <tr>\n",
       "      <th>min</th>\n",
       "      <td>NaN</td>\n",
       "      <td>3.800000</td>\n",
       "      <td>3.600000</td>\n",
       "      <td>0.050000</td>\n",
       "      <td>NaN</td>\n",
       "      <td>NaN</td>\n",
       "    </tr>\n",
       "    <tr>\n",
       "      <th>25%</th>\n",
       "      <td>NaN</td>\n",
       "      <td>40.400000</td>\n",
       "      <td>38.700000</td>\n",
       "      <td>6.500000</td>\n",
       "      <td>NaN</td>\n",
       "      <td>NaN</td>\n",
       "    </tr>\n",
       "    <tr>\n",
       "      <th>50%</th>\n",
       "      <td>NaN</td>\n",
       "      <td>44.100000</td>\n",
       "      <td>42.200000</td>\n",
       "      <td>9.500000</td>\n",
       "      <td>NaN</td>\n",
       "      <td>NaN</td>\n",
       "    </tr>\n",
       "    <tr>\n",
       "      <th>75%</th>\n",
       "      <td>NaN</td>\n",
       "      <td>50.300000</td>\n",
       "      <td>46.650000</td>\n",
       "      <td>13.000000</td>\n",
       "      <td>NaN</td>\n",
       "      <td>NaN</td>\n",
       "    </tr>\n",
       "    <tr>\n",
       "      <th>max</th>\n",
       "      <td>NaN</td>\n",
       "      <td>113.800000</td>\n",
       "      <td>102.600000</td>\n",
       "      <td>47.000000</td>\n",
       "      <td>NaN</td>\n",
       "      <td>NaN</td>\n",
       "    </tr>\n",
       "  </tbody>\n",
       "</table>\n",
       "</div>"
      ],
      "text/plain": [
       "       Tag_3       CCL_cm       CCW_cm   Weight_Kg  PCVNumber  Expenditure\n",
       "count    0.0  4273.000000  4271.000000  690.000000        0.0          0.0\n",
       "mean     NaN    46.101446    43.387801   11.260725        NaN          NaN\n",
       "std      NaN    11.116282     9.869579    7.346254        NaN          NaN\n",
       "min      NaN     3.800000     3.600000    0.050000        NaN          NaN\n",
       "25%      NaN    40.400000    38.700000    6.500000        NaN          NaN\n",
       "50%      NaN    44.100000    42.200000    9.500000        NaN          NaN\n",
       "75%      NaN    50.300000    46.650000   13.000000        NaN          NaN\n",
       "max      NaN   113.800000   102.600000   47.000000        NaN          NaN"
      ]
     },
     "execution_count": 56,
     "metadata": {},
     "output_type": "execute_result"
    }
   ],
   "source": [
    "clean.select_dtypes(include=['float']).describe()"
   ]
  },
  {
   "cell_type": "code",
   "execution_count": 57,
   "metadata": {},
   "outputs": [
    {
     "data": {
      "text/html": [
       "<div>\n",
       "<style scoped>\n",
       "    .dataframe tbody tr th:only-of-type {\n",
       "        vertical-align: middle;\n",
       "    }\n",
       "\n",
       "    .dataframe tbody tr th {\n",
       "        vertical-align: top;\n",
       "    }\n",
       "\n",
       "    .dataframe thead th {\n",
       "        text-align: right;\n",
       "    }\n",
       "</style>\n",
       "<table border=\"1\" class=\"dataframe\">\n",
       "  <thead>\n",
       "    <tr style=\"text-align: right;\">\n",
       "      <th></th>\n",
       "      <th>Rescue_ID</th>\n",
       "      <th>Researcher</th>\n",
       "      <th>CaptureSite</th>\n",
       "      <th>ForagingGround</th>\n",
       "      <th>CaptureMethod</th>\n",
       "      <th>Fisher</th>\n",
       "      <th>LandingSite</th>\n",
       "      <th>Species</th>\n",
       "      <th>ReleaseSite</th>\n",
       "      <th>Tag_1</th>\n",
       "      <th>Tag_2</th>\n",
       "      <th>Lost_Tags</th>\n",
       "      <th>T_Number</th>\n",
       "      <th>Sex</th>\n",
       "      <th>TurtleCharacteristics</th>\n",
       "      <th>Status</th>\n",
       "      <th>Date_Release</th>\n",
       "      <th>Release_Admiss_Notes</th>\n",
       "      <th>SpecialRemarks</th>\n",
       "    </tr>\n",
       "  </thead>\n",
       "  <tbody>\n",
       "    <tr>\n",
       "      <th>count</th>\n",
       "      <td>4292</td>\n",
       "      <td>4292</td>\n",
       "      <td>4292</td>\n",
       "      <td>4284</td>\n",
       "      <td>4292</td>\n",
       "      <td>4292</td>\n",
       "      <td>4292</td>\n",
       "      <td>4292</td>\n",
       "      <td>4288</td>\n",
       "      <td>4292</td>\n",
       "      <td>4292</td>\n",
       "      <td>213</td>\n",
       "      <td>2</td>\n",
       "      <td>3167</td>\n",
       "      <td>4255</td>\n",
       "      <td>2991</td>\n",
       "      <td>681</td>\n",
       "      <td>276</td>\n",
       "      <td>69</td>\n",
       "    </tr>\n",
       "    <tr>\n",
       "      <th>unique</th>\n",
       "      <td>4292</td>\n",
       "      <td>21</td>\n",
       "      <td>74</td>\n",
       "      <td>3</td>\n",
       "      <td>11</td>\n",
       "      <td>1074</td>\n",
       "      <td>35</td>\n",
       "      <td>5</td>\n",
       "      <td>51</td>\n",
       "      <td>2773</td>\n",
       "      <td>48</td>\n",
       "      <td>115</td>\n",
       "      <td>2</td>\n",
       "      <td>4</td>\n",
       "      <td>4130</td>\n",
       "      <td>3</td>\n",
       "      <td>468</td>\n",
       "      <td>98</td>\n",
       "      <td>29</td>\n",
       "    </tr>\n",
       "    <tr>\n",
       "      <th>top</th>\n",
       "      <td>2005_RE_0284</td>\n",
       "      <td>researcher_9</td>\n",
       "      <td>site_53</td>\n",
       "      <td>creek</td>\n",
       "      <td>net</td>\n",
       "      <td>fisher_861</td>\n",
       "      <td>site_8</td>\n",
       "      <td>species_1</td>\n",
       "      <td>site_80</td>\n",
       "      <td>KE3032</td>\n",
       "      <td>None</td>\n",
       "      <td>KE1805</td>\n",
       "      <td>T001</td>\n",
       "      <td>Unknown</td>\n",
       "      <td>clean</td>\n",
       "      <td>Released</td>\n",
       "      <td>10/19/2002</td>\n",
       "      <td>Caught the day before</td>\n",
       "      <td>Fibropapillomatosis</td>\n",
       "    </tr>\n",
       "    <tr>\n",
       "      <th>freq</th>\n",
       "      <td>1</td>\n",
       "      <td>1930</td>\n",
       "      <td>911</td>\n",
       "      <td>3193</td>\n",
       "      <td>3506</td>\n",
       "      <td>530</td>\n",
       "      <td>1696</td>\n",
       "      <td>3662</td>\n",
       "      <td>2273</td>\n",
       "      <td>24</td>\n",
       "      <td>4240</td>\n",
       "      <td>16</td>\n",
       "      <td>1</td>\n",
       "      <td>3140</td>\n",
       "      <td>34</td>\n",
       "      <td>2948</td>\n",
       "      <td>8</td>\n",
       "      <td>149</td>\n",
       "      <td>20</td>\n",
       "    </tr>\n",
       "  </tbody>\n",
       "</table>\n",
       "</div>"
      ],
      "text/plain": [
       "           Rescue_ID    Researcher CaptureSite ForagingGround CaptureMethod  \\\n",
       "count           4292          4292        4292           4284          4292   \n",
       "unique          4292            21          74              3            11   \n",
       "top     2005_RE_0284  researcher_9     site_53          creek           net   \n",
       "freq               1          1930         911           3193          3506   \n",
       "\n",
       "            Fisher LandingSite    Species ReleaseSite   Tag_1 Tag_2 Lost_Tags  \\\n",
       "count         4292        4292       4292        4288    4292  4292       213   \n",
       "unique        1074          35          5          51    2773    48       115   \n",
       "top     fisher_861      site_8  species_1     site_80  KE3032  None    KE1805   \n",
       "freq           530        1696       3662        2273      24  4240        16   \n",
       "\n",
       "       T_Number      Sex TurtleCharacteristics    Status Date_Release  \\\n",
       "count         2     3167                  4255      2991          681   \n",
       "unique        2        4                  4130         3          468   \n",
       "top        T001  Unknown                 clean  Released   10/19/2002   \n",
       "freq          1     3140                    34      2948            8   \n",
       "\n",
       "         Release_Admiss_Notes       SpecialRemarks  \n",
       "count                     276                   69  \n",
       "unique                     98                   29  \n",
       "top     Caught the day before  Fibropapillomatosis  \n",
       "freq                      149                   20  "
      ]
     },
     "execution_count": 57,
     "metadata": {},
     "output_type": "execute_result"
    }
   ],
   "source": [
    "clean.select_dtypes(include=['object']).describe()"
   ]
  },
  {
   "cell_type": "code",
   "execution_count": 58,
   "metadata": {},
   "outputs": [
    {
     "name": "stdout",
     "output_type": "stream",
     "text": [
      "<class 'pandas.core.frame.DataFrame'>\n",
      "RangeIndex: 4292 entries, 0 to 4291\n",
      "Data columns (total 26 columns):\n",
      "Rescue_ID                4292 non-null object\n",
      "Date_Caught              4292 non-null object\n",
      "Researcher               4291 non-null object\n",
      "CaptureSite              4292 non-null object\n",
      "ForagingGround           4292 non-null object\n",
      "CaptureMethod            4292 non-null object\n",
      "Fisher                   4292 non-null object\n",
      "LandingSite              4292 non-null object\n",
      "Species                  4292 non-null object\n",
      "ReleaseSite              4292 non-null object\n",
      "Tag_1                    4292 non-null object\n",
      "Tag_2                    4292 non-null object\n",
      "Tag_3                    0 non-null float64\n",
      "Lost_Tags                189 non-null object\n",
      "T_Number                 2 non-null object\n",
      "CCL_cm                   4272 non-null float64\n",
      "CCW_cm                   4270 non-null float64\n",
      "Weight_Kg                686 non-null float64\n",
      "Sex                      1 non-null object\n",
      "TurtleCharacteristics    4236 non-null object\n",
      "Status                   1 non-null object\n",
      "Date_Release             1 non-null object\n",
      "Release_Admiss_Notes     288 non-null object\n",
      "SpecialRemarks           48 non-null object\n",
      "PCVNumber                0 non-null float64\n",
      "Expenditure              0 non-null float64\n",
      "dtypes: float64(6), object(20)\n",
      "memory usage: 871.9+ KB\n"
     ]
    }
   ],
   "source": [
    "dirty.info()"
   ]
  },
  {
   "cell_type": "code",
   "execution_count": 59,
   "metadata": {},
   "outputs": [],
   "source": [
    "# from sklearn.impute import SimpleImputer"
   ]
  },
  {
   "cell_type": "code",
   "execution_count": 96,
   "metadata": {},
   "outputs": [
    {
     "data": {
      "image/png": "[encoded data removed]",
      "text/plain": [
       "<Figure size 720x288 with 1 Axes>"
      ]
     },
     "metadata": {},
     "output_type": "display_data"
    }
   ],
   "source": [
    "yearly = clean['Date_Caught'].dt.year.value_counts().sort_index()\n",
    "\n",
    "plt.figure(figsize = (10, 4))\n",
    "ax = sns.barplot(yearly.index, yearly.values)\n",
    "bars = ax.patches\n",
    "values = yearly.values\n",
    "\n",
    "for b, v in zip(bars, values):\n",
    "    h = b.get_height()\n",
    "    w = b.get_width()\n",
    "    x_loc = b.get_x()\n",
    "    ax.text(x_loc + w/2, h + 5, v, ha = 'center', va = 'bottom', fontsize= 12)\n",
    "    \n",
    "ax.set_ylabel(\"Count of Turtles\")\n",
    "ax.set_xlabel(\"Year Caught\")\n",
    "ax.set_title(\"Turtles Caught by Year\")\n",
    "plt.show()"
   ]
  },
  {
   "cell_type": "code",
   "execution_count": 95,
   "metadata": {},
   "outputs": [
    {
     "data": {
      "image/png": "[encoded data removed]",
      "text/plain": [
       "<Figure size 1080x288 with 1 Axes>"
      ]
     },
     "metadata": {},
     "output_type": "display_data"
    }
   ],
   "source": [
    "researchers = clean['Researcher'].value_counts().sort_values()\n",
    "\n",
    "plt.figure(figsize = (15, 4))\n",
    "ax = sns.barplot(researchers.index, researchers.values)\n",
    "bars = ax.patches\n",
    "values = researchers.values\n",
    "labels = researchers.index\n",
    "\n",
    "for b, v in zip(bars, values):\n",
    "    h = b.get_height()\n",
    "    w = b.get_width()\n",
    "    x_loc = b.get_x()\n",
    "    ax.text(x_loc + w/2, h + 5, v, ha = 'center', va = 'bottom', fontsize= 12)\n",
    "ax.set_xticklabels(labels =labels, rotation = 45)\n",
    "ax.set_ylabel(\"Count of Turtles\")\n",
    "ax.set_xlabel(\"Researcher\")\n",
    "ax.set_title(\"Count of Turtles by Researcher\")\n",
    "plt.show()"
   ]
  },
  {
   "cell_type": "code",
   "execution_count": 127,
   "metadata": {},
   "outputs": [],
   "source": [
    "def limit_percentile(df, group_col=None,value_col=None,alpha = 0.75 ):\n",
    "    \n",
    "    \"\"\" Return the provided label for items whose cumsum is below the \n",
    "    alpha value else return 'Others' for the remaining labels.\n",
    "    \"\"\"\n",
    "    \n",
    "    frame = df.groupby([group_col])[value_col].size()\\\n",
    "        .sort_values(ascending= False)\\\n",
    "        .fillna(value = 0).reset_index()\n",
    "    \n",
    "    #GET CUMSUM PERCENTILE\n",
    "    frame['perc'] = frame[value_col].cumsum()/ frame[value_col].sum()\n",
    "    \n",
    "    #GET LABEL FILTERED BY ALPHA ON CUMSUM PERCENTILE\n",
    "    frame['new_label'] = frame[['perc',group_col]].apply(lambda x: x[group_col] \n",
    "                                                       if(x['perc'] < alpha ) else \"Others\", axis = 1)\n",
    "    \n",
    "    #DROP THE CUMSUM PERCENTILE COLUMN\n",
    "    frame.drop('perc', axis = 1, inplace = True)\n",
    "    \n",
    "    frame = frame.groupby(\"new_label\")[value_col].sum()\n",
    "\n",
    "    return frame"
   ]
  },
  {
   "cell_type": "code",
   "execution_count": 132,
   "metadata": {},
   "outputs": [
    {
     "data": {
      "image/png": "[encoded data removed]",
      "text/plain": [
       "<Figure size 1080x288 with 1 Axes>"
      ]
     },
     "metadata": {},
     "output_type": "display_data"
    }
   ],
   "source": [
    "\n",
    "capture_site = limit_percentile(clean,group_col='CaptureSite',value_col='Rescue_ID', alpha=.9)\n",
    "capture_site = capture_site.sort_values()\n",
    "\n",
    "plt.figure(figsize = (15, 4))\n",
    "ax = sns.barplot(capture_site.index, capture_site.values)\n",
    "bars = ax.patches\n",
    "values = capture_site.values\n",
    "labels = capture_site.index\n",
    "\n",
    "for b, v in zip(bars, values):\n",
    "    h = b.get_height()\n",
    "    w = b.get_width()\n",
    "    x_loc = b.get_x()\n",
    "    ax.text(x_loc + w/2, h + 5, v, ha = 'center', va = 'bottom', fontsize= 12)\n",
    "ax.set_xticklabels(labels =labels, rotation = 45)\n",
    "ax.set_ylabel(\"Count of Turtles\")\n",
    "ax.set_xlabel(\"CaptureSite\")\n",
    "ax.set_title(\"Count of Turtles by CaptureSite\")\n",
    "plt.show()"
   ]
  },
  {
   "cell_type": "code",
   "execution_count": 157,
   "metadata": {},
   "outputs": [
    {
     "data": {
      "image/png": "[encoded data removed]",
      "text/plain": [
       "<Figure size 1080x288 with 1 Axes>"
      ]
     },
     "metadata": {},
     "output_type": "display_data"
    }
   ],
   "source": [
    "foraging_ground = clean['ForagingGround'].value_counts().sort_values()\n",
    "values = foraging_ground.values.tolist()\n",
    "labels = foraging_ground.index.tolist()\n",
    "\n",
    "plt.figure(figsize = (15, 4))\n",
    "cmap = plt.get_cmap(\"Pastel1_r\")\n",
    "c = [cmap(i) for i in np.linspace(0, 1, len(values))]\n",
    "ax = squarify.plot(sizes = values, label= labels, color = c, value = values, alpha=1)\n",
    "\n",
    "ax.set_xticklabels(labels =labels, rotation = 45)\n",
    "ax.set_title(\"Count of Turtles by CaptureSite\")\n",
    "\n",
    "plt.axis(\"off\")\n",
    "plt.show()"
   ]
  },
  {
   "cell_type": "code",
   "execution_count": 134,
   "metadata": {},
   "outputs": [
    {
     "data": {
      "text/plain": [
       "creek           3193\n",
       "ocean           1089\n",
       "not_recorded       2\n",
       "Name: ForagingGround, dtype: int64"
      ]
     },
     "execution_count": 134,
     "metadata": {},
     "output_type": "execute_result"
    }
   ],
   "source": [
    "plt.subplot(1, 3, 3)\n",
    "experience_dist = df.experience.value_counts()\n",
    "cmap = plt.get_cmap('Pastel1_r')\n",
    "c = [cmap(i) for i in np.linspace(0, 1, len(experience_dist.index))]\n",
    "plt.pie(experience_dist.values, labels= experience_dist.index, colors= c, \n",
    "        shadow= True, autopct= '%1.1f%%', startangle = 90, textprops = {'color': 'black', 'fontsize': 12})\n",
    "plt.axis('equal')\n",
    "plt.title(\"Reviewer Experience\")\n",
    "\n",
    "#plt.show()\n",
    "plt.tight_layout()"
   ]
  }
 ],
 "metadata": {
  "kernelspec": {
   "display_name": "Python 3",
   "language": "python",
   "name": "python3"
  },
  "language_info": {
   "codemirror_mode": {
    "name": "ipython",
    "version": 3
   },
   "file_extension": ".py",
   "mimetype": "text/x-python",
   "name": "python",
   "nbconvert_exporter": "python",
   "pygments_lexer": "ipython3",
   "version": "3.6.4"
  }
 },
 "nbformat": 4,
 "nbformat_minor": 2
}
